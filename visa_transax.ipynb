{
 "cells": [
  {
   "cell_type": "markdown",
   "metadata": {},
   "source": [
    "## Введение\n",
    "У нас имеется датасет, содержащий данные, предоставленные компанией **VISA**, на официальном сайте. \n",
    "\n",
    "## Наша задача\n",
    "В этой работе мы хотим:<br>\n",
    "1. изучить данные,\n",
    "2. выбрать алгоритм,\n",
    "3. обучить и проверить метрики на выходе.\n",
    "\n",
    "\n",
    "## Описание данных \n",
    "И так, у нас имеется датасет, который содержит следующие поля:<br> \n",
    "1. `target` - целевой признак, тот который надо предсказать и который по своему существу является ничем иным как полом каждого пользователя карты **VISA**;\n",
    "2. `client_id` -уник. номер клиента (держателя карты);\n",
    "3. `dt_range` - ничто иное, как дата операции, в формате **дни с даты активации** - **ч-м-с**;\n",
    "4. `sum` - сумма транзакции, которая была проведена пользователем;\n",
    "5. `event_name` - код наименования транзакции;\n",
    "6. `transaction_purpose` - цель транзакции.\n",
    "\n",
    "\n",
    "## Библиотеки\n",
    "Здесь выгрузим необходимые библиотеки."
   ]
  },
  {
   "cell_type": "code",
   "execution_count": 46,
   "metadata": {},
   "outputs": [],
   "source": [
    "# 01001101 01100001 01111001 00100000 01110100 01101000 01100101\n",
    "# 00100000 01000110 01101111 01110010 01100011 01100101 00100000\n",
    "# 01100010 01100101 00100000 01110111 01101001 01110100 01101000 \n",
    "# 00100000 01111001 01101111 01110101 00100001\n",
    "import pandas as pd\n",
    "import matplotlib.pyplot as plt\n",
    "import textwrap\n",
    "import numpy as np\n",
    "import plotly.express as px\n",
    "import seaborn as sns\n",
    "from statistics import *\n",
    "import re\n",
    "import matplotlib as mpl\n",
    "import warnings\n",
    "warnings.filterwarnings('ignore')\n",
    "from matplotlib.colors import ListedColormap\n",
    "import datetime as dt\n",
    "from plotly import graph_objects as go\n",
    "from scipy import stats as st\n",
    "import math as mt\n",
    "import sklearn\n",
    "\n",
    "# pydot\n",
    "import pydot\n",
    "import graphviz\n",
    "\n",
    "## Splitter SKLearn\n",
    "from sklearn.model_selection import train_test_split\n",
    "\n",
    "## Accuracy/Precision/Recall\n",
    "from sklearn.metrics import accuracy_score, precision_score, recall_score, roc_curve, roc_auc_score, confusion_matrix\n",
    "\n",
    "# для OHE\n",
    "from sklearn.preprocessing import LabelEncoder\n",
    "from sklearn.preprocessing import OneHotEncoder\n",
    "\n",
    "## \n",
    "from numpy import mean\n",
    "from sklearn.datasets import make_classification\n",
    "from sklearn.model_selection import cross_val_score\n",
    "from sklearn.model_selection import RepeatedStratifiedKFold\n",
    "from xgboost import XGBClassifier"
   ]
  },
  {
   "cell_type": "markdown",
   "metadata": {},
   "source": [
    "## Датасет и общая информация о данных\n",
    "Выгрузим данные и узнаем их получше."
   ]
  },
  {
   "cell_type": "code",
   "execution_count": 11,
   "metadata": {},
   "outputs": [
    {
     "name": "stdout",
     "output_type": "stream",
     "text": [
      "<class 'pandas.core.frame.DataFrame'>\n",
      "RangeIndex: 91826 entries, 0 to 91825\n",
      "Data columns (total 8 columns):\n",
      " #   Column               Non-Null Count  Dtype  \n",
      "---  ------               --------------  -----  \n",
      " 0   Unnamed: 0           91826 non-null  int64  \n",
      " 1   RangeIndex           91826 non-null  int64  \n",
      " 2   client_id            91826 non-null  int64  \n",
      " 3   dt_range             91826 non-null  object \n",
      " 4   sum                  91826 non-null  float64\n",
      " 5   target               91826 non-null  int64  \n",
      " 6   event_name           91826 non-null  object \n",
      " 7   transaction_purpose  91826 non-null  object \n",
      "dtypes: float64(1), int64(4), object(3)\n",
      "memory usage: 5.6+ MB\n"
     ]
    }
   ],
   "source": [
    "transactions = pd.read_csv(\"visa_customers.csv\")\n",
    "transactions.info()"
   ]
  },
  {
   "cell_type": "code",
   "execution_count": 12,
   "metadata": {},
   "outputs": [
    {
     "data": {
      "text/html": [
       "<div>\n",
       "<style scoped>\n",
       "    .dataframe tbody tr th:only-of-type {\n",
       "        vertical-align: middle;\n",
       "    }\n",
       "\n",
       "    .dataframe tbody tr th {\n",
       "        vertical-align: top;\n",
       "    }\n",
       "\n",
       "    .dataframe thead th {\n",
       "        text-align: right;\n",
       "    }\n",
       "</style>\n",
       "<table border=\"1\" class=\"dataframe\">\n",
       "  <thead>\n",
       "    <tr style=\"text-align: right;\">\n",
       "      <th></th>\n",
       "      <th>Unnamed: 0</th>\n",
       "      <th>RangeIndex</th>\n",
       "      <th>client_id</th>\n",
       "      <th>dt_range</th>\n",
       "      <th>sum</th>\n",
       "      <th>target</th>\n",
       "      <th>event_name</th>\n",
       "      <th>transaction_purpose</th>\n",
       "    </tr>\n",
       "  </thead>\n",
       "  <tbody>\n",
       "    <tr>\n",
       "      <th>0</th>\n",
       "      <td>0</td>\n",
       "      <td>0</td>\n",
       "      <td>880096372458</td>\n",
       "      <td>421 06:33:15</td>\n",
       "      <td>-561478.94</td>\n",
       "      <td>0</td>\n",
       "      <td>d7a84628c025d30f7b2c52c958767e76</td>\n",
       "      <td>e3b80d30a727c738f3cff0941f6bc55a</td>\n",
       "    </tr>\n",
       "    <tr>\n",
       "      <th>1</th>\n",
       "      <td>1</td>\n",
       "      <td>1</td>\n",
       "      <td>880096372458</td>\n",
       "      <td>270 06:16:18</td>\n",
       "      <td>224591.58</td>\n",
       "      <td>0</td>\n",
       "      <td>281715cafa675bf359ebaa42cb44fa17</td>\n",
       "      <td>e3b80d30a727c738f3cff0941f6bc55a</td>\n",
       "    </tr>\n",
       "    <tr>\n",
       "      <th>2</th>\n",
       "      <td>2</td>\n",
       "      <td>2</td>\n",
       "      <td>880096372458</td>\n",
       "      <td>97 10:48:35</td>\n",
       "      <td>-11229.58</td>\n",
       "      <td>0</td>\n",
       "      <td>ca43108ded5aabc7793d3f9b928cdd54</td>\n",
       "      <td>926ec030f29f83ce5318754fdb631a33</td>\n",
       "    </tr>\n",
       "  </tbody>\n",
       "</table>\n",
       "</div>"
      ],
      "text/plain": [
       "   Unnamed: 0  RangeIndex     client_id      dt_range        sum  target  \\\n",
       "0           0           0  880096372458  421 06:33:15 -561478.94       0   \n",
       "1           1           1  880096372458  270 06:16:18  224591.58       0   \n",
       "2           2           2  880096372458   97 10:48:35  -11229.58       0   \n",
       "\n",
       "                         event_name               transaction_purpose  \n",
       "0  d7a84628c025d30f7b2c52c958767e76  e3b80d30a727c738f3cff0941f6bc55a  \n",
       "1  281715cafa675bf359ebaa42cb44fa17  e3b80d30a727c738f3cff0941f6bc55a  \n",
       "2  ca43108ded5aabc7793d3f9b928cdd54  926ec030f29f83ce5318754fdb631a33  "
      ]
     },
     "execution_count": 12,
     "metadata": {},
     "output_type": "execute_result"
    }
   ],
   "source": [
    "transactions.head(3)"
   ]
  },
  {
   "cell_type": "markdown",
   "metadata": {},
   "source": [
    "**Вывод:**\n",
    "1. Лишние поля **Unnamed** и **RangeIndex** должны быть сброшены (удалены);\n",
    "2. Не все из поля **dt_range** нам нужно, видимо, придется сбросить лишние части и проработать далее."
   ]
  },
  {
   "cell_type": "markdown",
   "metadata": {},
   "source": [
    "## Предобработка данных\n",
    "И так, предобработка имеющихся признаков, но вначале избавимся от ненужных признаков.\n",
    "### Удаление лишних признаков"
   ]
  },
  {
   "cell_type": "code",
   "execution_count": 13,
   "metadata": {},
   "outputs": [],
   "source": [
    "transactions = transactions.drop([\"Unnamed: 0\", \"RangeIndex\"], axis = 1)"
   ]
  },
  {
   "cell_type": "code",
   "execution_count": 14,
   "metadata": {},
   "outputs": [
    {
     "data": {
      "text/html": [
       "<div>\n",
       "<style scoped>\n",
       "    .dataframe tbody tr th:only-of-type {\n",
       "        vertical-align: middle;\n",
       "    }\n",
       "\n",
       "    .dataframe tbody tr th {\n",
       "        vertical-align: top;\n",
       "    }\n",
       "\n",
       "    .dataframe thead th {\n",
       "        text-align: right;\n",
       "    }\n",
       "</style>\n",
       "<table border=\"1\" class=\"dataframe\">\n",
       "  <thead>\n",
       "    <tr style=\"text-align: right;\">\n",
       "      <th></th>\n",
       "      <th>client_id</th>\n",
       "      <th>dt_range</th>\n",
       "      <th>sum</th>\n",
       "      <th>target</th>\n",
       "      <th>event_name</th>\n",
       "      <th>transaction_purpose</th>\n",
       "    </tr>\n",
       "  </thead>\n",
       "  <tbody>\n",
       "    <tr>\n",
       "      <th>0</th>\n",
       "      <td>880096372458</td>\n",
       "      <td>421 06:33:15</td>\n",
       "      <td>-561478.94</td>\n",
       "      <td>0</td>\n",
       "      <td>d7a84628c025d30f7b2c52c958767e76</td>\n",
       "      <td>e3b80d30a727c738f3cff0941f6bc55a</td>\n",
       "    </tr>\n",
       "    <tr>\n",
       "      <th>1</th>\n",
       "      <td>880096372458</td>\n",
       "      <td>270 06:16:18</td>\n",
       "      <td>224591.58</td>\n",
       "      <td>0</td>\n",
       "      <td>281715cafa675bf359ebaa42cb44fa17</td>\n",
       "      <td>e3b80d30a727c738f3cff0941f6bc55a</td>\n",
       "    </tr>\n",
       "    <tr>\n",
       "      <th>2</th>\n",
       "      <td>880096372458</td>\n",
       "      <td>97 10:48:35</td>\n",
       "      <td>-11229.58</td>\n",
       "      <td>0</td>\n",
       "      <td>ca43108ded5aabc7793d3f9b928cdd54</td>\n",
       "      <td>926ec030f29f83ce5318754fdb631a33</td>\n",
       "    </tr>\n",
       "    <tr>\n",
       "      <th>3</th>\n",
       "      <td>880096372458</td>\n",
       "      <td>445 07:33:38</td>\n",
       "      <td>-417695.42</td>\n",
       "      <td>0</td>\n",
       "      <td>619205da514e83f869515c782a328d3c</td>\n",
       "      <td>926ec030f29f83ce5318754fdb631a33</td>\n",
       "    </tr>\n",
       "    <tr>\n",
       "      <th>4</th>\n",
       "      <td>880096372458</td>\n",
       "      <td>4 09:33:46</td>\n",
       "      <td>-2245.92</td>\n",
       "      <td>0</td>\n",
       "      <td>e515df0d202ae52fcebb14295743063b</td>\n",
       "      <td>084afd913ab1e6ea58b8ca73f6cb41a6</td>\n",
       "    </tr>\n",
       "  </tbody>\n",
       "</table>\n",
       "</div>"
      ],
      "text/plain": [
       "      client_id      dt_range        sum  target  \\\n",
       "0  880096372458  421 06:33:15 -561478.94       0   \n",
       "1  880096372458  270 06:16:18  224591.58       0   \n",
       "2  880096372458   97 10:48:35  -11229.58       0   \n",
       "3  880096372458  445 07:33:38 -417695.42       0   \n",
       "4  880096372458    4 09:33:46   -2245.92       0   \n",
       "\n",
       "                         event_name               transaction_purpose  \n",
       "0  d7a84628c025d30f7b2c52c958767e76  e3b80d30a727c738f3cff0941f6bc55a  \n",
       "1  281715cafa675bf359ebaa42cb44fa17  e3b80d30a727c738f3cff0941f6bc55a  \n",
       "2  ca43108ded5aabc7793d3f9b928cdd54  926ec030f29f83ce5318754fdb631a33  \n",
       "3  619205da514e83f869515c782a328d3c  926ec030f29f83ce5318754fdb631a33  \n",
       "4  e515df0d202ae52fcebb14295743063b  084afd913ab1e6ea58b8ca73f6cb41a6  "
      ]
     },
     "execution_count": 14,
     "metadata": {},
     "output_type": "execute_result"
    }
   ],
   "source": [
    "transactions.head()"
   ]
  },
  {
   "cell_type": "markdown",
   "metadata": {},
   "source": [
    "### Feature Engineering\n",
    "#### Признак **dt_range**\n",
    "##### Час-минута-секунда\n",
    "У нас имеется признак **dt_range**, который, как нам известно, преобразован в мета-данные пользовательской активности. Нам же, в свою очередь достаточно выяснить, имелись ли какие либо аномалий в течение периода времени, и если ответ - нет, то мы можем оставить из всего поля только следующее:\n",
    "1) Количество дней;\n",
    "2) Номер месяца активности;\n",
    "3) Час;\n",
    "4) Минуту;\n",
    "5) Секунду."
   ]
  },
  {
   "cell_type": "code",
   "execution_count": 15,
   "metadata": {},
   "outputs": [
    {
     "name": "stdout",
     "output_type": "stream",
     "text": [
      "<class 'pandas.core.frame.DataFrame'>\n",
      "RangeIndex: 91826 entries, 0 to 91825\n",
      "Data columns (total 7 columns):\n",
      " #   Column               Non-Null Count  Dtype  \n",
      "---  ------               --------------  -----  \n",
      " 0   client_id            91826 non-null  int64  \n",
      " 1   dt_range             91826 non-null  object \n",
      " 2   sum                  91826 non-null  float64\n",
      " 3   target               91826 non-null  int64  \n",
      " 4   event_name           91826 non-null  object \n",
      " 5   transaction_purpose  91826 non-null  object \n",
      " 6   num_days             91826 non-null  object \n",
      "dtypes: float64(1), int64(2), object(4)\n",
      "memory usage: 4.9+ MB\n"
     ]
    }
   ],
   "source": [
    "transactions.loc[:, \"num_days\"] =  transactions.loc[:, \"dt_range\"].str.split(\" \", expand=True)[0]\n",
    "transactions.info()"
   ]
  },
  {
   "cell_type": "code",
   "execution_count": 16,
   "metadata": {},
   "outputs": [
    {
     "name": "stdout",
     "output_type": "stream",
     "text": [
      "<class 'pandas.core.frame.DataFrame'>\n",
      "RangeIndex: 91826 entries, 0 to 91825\n",
      "Data columns (total 7 columns):\n",
      " #   Column               Non-Null Count  Dtype  \n",
      "---  ------               --------------  -----  \n",
      " 0   client_id            91826 non-null  int64  \n",
      " 1   dt_range             91826 non-null  object \n",
      " 2   sum                  91826 non-null  float64\n",
      " 3   target               91826 non-null  int64  \n",
      " 4   event_name           91826 non-null  object \n",
      " 5   transaction_purpose  91826 non-null  object \n",
      " 6   num_days             91826 non-null  int32  \n",
      "dtypes: float64(1), int32(1), int64(2), object(3)\n",
      "memory usage: 4.6+ MB\n"
     ]
    }
   ],
   "source": [
    "transactions.loc[:, \"num_days\"] = transactions.loc[:, \"num_days\"].astype(\"int\")\n",
    "transactions.info()"
   ]
  },
  {
   "cell_type": "code",
   "execution_count": 17,
   "metadata": {},
   "outputs": [
    {
     "name": "stdout",
     "output_type": "stream",
     "text": [
      "<class 'pandas.core.frame.DataFrame'>\n",
      "RangeIndex: 91826 entries, 0 to 91825\n",
      "Data columns (total 9 columns):\n",
      " #   Column               Non-Null Count  Dtype  \n",
      "---  ------               --------------  -----  \n",
      " 0   client_id            91826 non-null  int64  \n",
      " 1   sum                  91826 non-null  float64\n",
      " 2   target               91826 non-null  int64  \n",
      " 3   event_name           91826 non-null  object \n",
      " 4   transaction_purpose  91826 non-null  object \n",
      " 5   num_days             91826 non-null  int32  \n",
      " 6   hour                 91826 non-null  object \n",
      " 7   minute               91826 non-null  object \n",
      " 8   sec                  91826 non-null  object \n",
      "dtypes: float64(1), int32(1), int64(2), object(5)\n",
      "memory usage: 6.0+ MB\n"
     ]
    }
   ],
   "source": [
    "transactions.loc[:, \"hour\"] =  transactions.loc[:, \"dt_range\"].str.split(\" |:\", expand=True)[1]\n",
    "transactions.loc[:, \"minute\"] =  transactions.loc[:, \"dt_range\"].str.split(\":\", expand=True)[1]\n",
    "transactions.loc[:, \"sec\"] =  transactions.loc[:, \"dt_range\"].str.split(\":\", expand=True)[2]\n",
    "transactions=transactions.drop(\"dt_range\", axis=1)\n",
    "transactions.info()"
   ]
  },
  {
   "cell_type": "code",
   "execution_count": 18,
   "metadata": {},
   "outputs": [
    {
     "name": "stdout",
     "output_type": "stream",
     "text": [
      "<class 'pandas.core.frame.DataFrame'>\n",
      "RangeIndex: 91826 entries, 0 to 91825\n",
      "Data columns (total 9 columns):\n",
      " #   Column               Non-Null Count  Dtype  \n",
      "---  ------               --------------  -----  \n",
      " 0   client_id            91826 non-null  int64  \n",
      " 1   sum                  91826 non-null  float64\n",
      " 2   target               91826 non-null  int64  \n",
      " 3   event_name           91826 non-null  object \n",
      " 4   transaction_purpose  91826 non-null  object \n",
      " 5   num_days             91826 non-null  int32  \n",
      " 6   hour                 91826 non-null  int32  \n",
      " 7   minute               91826 non-null  int32  \n",
      " 8   sec                  91826 non-null  int32  \n",
      "dtypes: float64(1), int32(4), int64(2), object(2)\n",
      "memory usage: 4.9+ MB\n"
     ]
    }
   ],
   "source": [
    "transactions.loc[:, \"hour\"] = transactions.loc[:, \"hour\"].astype(\"int\")\n",
    "transactions.loc[:, \"minute\"] = transactions.loc[:, \"minute\"].astype(\"int\")\n",
    "transactions.loc[:, \"sec\"] = transactions.loc[:, \"sec\"].astype(\"int\")\n",
    "transactions.info()"
   ]
  },
  {
   "cell_type": "code",
   "execution_count": 19,
   "metadata": {},
   "outputs": [
    {
     "data": {
      "text/html": [
       "<div>\n",
       "<style scoped>\n",
       "    .dataframe tbody tr th:only-of-type {\n",
       "        vertical-align: middle;\n",
       "    }\n",
       "\n",
       "    .dataframe tbody tr th {\n",
       "        vertical-align: top;\n",
       "    }\n",
       "\n",
       "    .dataframe thead th {\n",
       "        text-align: right;\n",
       "    }\n",
       "</style>\n",
       "<table border=\"1\" class=\"dataframe\">\n",
       "  <thead>\n",
       "    <tr style=\"text-align: right;\">\n",
       "      <th></th>\n",
       "      <th>client_id</th>\n",
       "      <th>sum</th>\n",
       "      <th>target</th>\n",
       "      <th>event_name</th>\n",
       "      <th>transaction_purpose</th>\n",
       "      <th>num_days</th>\n",
       "      <th>hour</th>\n",
       "      <th>minute</th>\n",
       "      <th>sec</th>\n",
       "    </tr>\n",
       "  </thead>\n",
       "  <tbody>\n",
       "    <tr>\n",
       "      <th>0</th>\n",
       "      <td>880096372458</td>\n",
       "      <td>-561478.94</td>\n",
       "      <td>0</td>\n",
       "      <td>d7a84628c025d30f7b2c52c958767e76</td>\n",
       "      <td>e3b80d30a727c738f3cff0941f6bc55a</td>\n",
       "      <td>421</td>\n",
       "      <td>6</td>\n",
       "      <td>33</td>\n",
       "      <td>15</td>\n",
       "    </tr>\n",
       "    <tr>\n",
       "      <th>1</th>\n",
       "      <td>880096372458</td>\n",
       "      <td>224591.58</td>\n",
       "      <td>0</td>\n",
       "      <td>281715cafa675bf359ebaa42cb44fa17</td>\n",
       "      <td>e3b80d30a727c738f3cff0941f6bc55a</td>\n",
       "      <td>270</td>\n",
       "      <td>6</td>\n",
       "      <td>16</td>\n",
       "      <td>18</td>\n",
       "    </tr>\n",
       "    <tr>\n",
       "      <th>2</th>\n",
       "      <td>880096372458</td>\n",
       "      <td>-11229.58</td>\n",
       "      <td>0</td>\n",
       "      <td>ca43108ded5aabc7793d3f9b928cdd54</td>\n",
       "      <td>926ec030f29f83ce5318754fdb631a33</td>\n",
       "      <td>97</td>\n",
       "      <td>10</td>\n",
       "      <td>48</td>\n",
       "      <td>35</td>\n",
       "    </tr>\n",
       "  </tbody>\n",
       "</table>\n",
       "</div>"
      ],
      "text/plain": [
       "      client_id        sum  target                        event_name  \\\n",
       "0  880096372458 -561478.94       0  d7a84628c025d30f7b2c52c958767e76   \n",
       "1  880096372458  224591.58       0  281715cafa675bf359ebaa42cb44fa17   \n",
       "2  880096372458  -11229.58       0  ca43108ded5aabc7793d3f9b928cdd54   \n",
       "\n",
       "                transaction_purpose  num_days  hour  minute  sec  \n",
       "0  e3b80d30a727c738f3cff0941f6bc55a       421     6      33   15  \n",
       "1  e3b80d30a727c738f3cff0941f6bc55a       270     6      16   18  \n",
       "2  926ec030f29f83ce5318754fdb631a33        97    10      48   35  "
      ]
     },
     "execution_count": 19,
     "metadata": {},
     "output_type": "execute_result"
    }
   ],
   "source": [
    "transactions.head(3)"
   ]
  },
  {
   "cell_type": "markdown",
   "metadata": {},
   "source": [
    "Теперь мы снизим порядок признака **hour** до состояния бинарного. То есть, ***AM:PM*** таким образом, наши данные не будут такими сложными. \n",
    "Словарь:\n",
    "1. AM = 0;\n",
    "2. PM = 1."
   ]
  },
  {
   "cell_type": "code",
   "execution_count": 20,
   "metadata": {},
   "outputs": [],
   "source": [
    "def daytime_definer(dt):\n",
    "    if dt >= 12:\n",
    "        return 1\n",
    "    else:\n",
    "        return 0"
   ]
  },
  {
   "cell_type": "code",
   "execution_count": 21,
   "metadata": {},
   "outputs": [
    {
     "name": "stdout",
     "output_type": "stream",
     "text": [
      "<class 'pandas.core.frame.DataFrame'>\n",
      "RangeIndex: 91826 entries, 0 to 91825\n",
      "Data columns (total 10 columns):\n",
      " #   Column               Non-Null Count  Dtype  \n",
      "---  ------               --------------  -----  \n",
      " 0   client_id            91826 non-null  int64  \n",
      " 1   sum                  91826 non-null  float64\n",
      " 2   target               91826 non-null  int64  \n",
      " 3   event_name           91826 non-null  object \n",
      " 4   transaction_purpose  91826 non-null  object \n",
      " 5   num_days             91826 non-null  int32  \n",
      " 6   hour                 91826 non-null  int32  \n",
      " 7   minute               91826 non-null  int32  \n",
      " 8   sec                  91826 non-null  int32  \n",
      " 9   day_time             91826 non-null  int64  \n",
      "dtypes: float64(1), int32(4), int64(3), object(2)\n",
      "memory usage: 5.6+ MB\n"
     ]
    }
   ],
   "source": [
    "transactions.loc[:, \"day_time\"] = transactions.loc[:, \"hour\"].apply(daytime_definer)\n",
    "transactions.info()"
   ]
  },
  {
   "cell_type": "code",
   "execution_count": 22,
   "metadata": {},
   "outputs": [
    {
     "data": {
      "text/html": [
       "<div>\n",
       "<style scoped>\n",
       "    .dataframe tbody tr th:only-of-type {\n",
       "        vertical-align: middle;\n",
       "    }\n",
       "\n",
       "    .dataframe tbody tr th {\n",
       "        vertical-align: top;\n",
       "    }\n",
       "\n",
       "    .dataframe thead th {\n",
       "        text-align: right;\n",
       "    }\n",
       "</style>\n",
       "<table border=\"1\" class=\"dataframe\">\n",
       "  <thead>\n",
       "    <tr style=\"text-align: right;\">\n",
       "      <th></th>\n",
       "      <th>client_id</th>\n",
       "      <th>sum</th>\n",
       "      <th>target</th>\n",
       "      <th>event_name</th>\n",
       "      <th>transaction_purpose</th>\n",
       "      <th>num_days</th>\n",
       "      <th>hour</th>\n",
       "      <th>day_time</th>\n",
       "    </tr>\n",
       "  </thead>\n",
       "  <tbody>\n",
       "    <tr>\n",
       "      <th>0</th>\n",
       "      <td>880096372458</td>\n",
       "      <td>-561478.94</td>\n",
       "      <td>0</td>\n",
       "      <td>d7a84628c025d30f7b2c52c958767e76</td>\n",
       "      <td>e3b80d30a727c738f3cff0941f6bc55a</td>\n",
       "      <td>421</td>\n",
       "      <td>6</td>\n",
       "      <td>0</td>\n",
       "    </tr>\n",
       "    <tr>\n",
       "      <th>1</th>\n",
       "      <td>880096372458</td>\n",
       "      <td>224591.58</td>\n",
       "      <td>0</td>\n",
       "      <td>281715cafa675bf359ebaa42cb44fa17</td>\n",
       "      <td>e3b80d30a727c738f3cff0941f6bc55a</td>\n",
       "      <td>270</td>\n",
       "      <td>6</td>\n",
       "      <td>0</td>\n",
       "    </tr>\n",
       "    <tr>\n",
       "      <th>2</th>\n",
       "      <td>880096372458</td>\n",
       "      <td>-11229.58</td>\n",
       "      <td>0</td>\n",
       "      <td>ca43108ded5aabc7793d3f9b928cdd54</td>\n",
       "      <td>926ec030f29f83ce5318754fdb631a33</td>\n",
       "      <td>97</td>\n",
       "      <td>10</td>\n",
       "      <td>0</td>\n",
       "    </tr>\n",
       "  </tbody>\n",
       "</table>\n",
       "</div>"
      ],
      "text/plain": [
       "      client_id        sum  target                        event_name  \\\n",
       "0  880096372458 -561478.94       0  d7a84628c025d30f7b2c52c958767e76   \n",
       "1  880096372458  224591.58       0  281715cafa675bf359ebaa42cb44fa17   \n",
       "2  880096372458  -11229.58       0  ca43108ded5aabc7793d3f9b928cdd54   \n",
       "\n",
       "                transaction_purpose  num_days  hour  day_time  \n",
       "0  e3b80d30a727c738f3cff0941f6bc55a       421     6         0  \n",
       "1  e3b80d30a727c738f3cff0941f6bc55a       270     6         0  \n",
       "2  926ec030f29f83ce5318754fdb631a33        97    10         0  "
      ]
     },
     "execution_count": 22,
     "metadata": {},
     "output_type": "execute_result"
    }
   ],
   "source": [
    "transactions = transactions.drop([\"minute\", \"sec\"], axis = 1)\n",
    "transactions.head(3)"
   ]
  },
  {
   "cell_type": "markdown",
   "metadata": {},
   "source": [
    "##### Признак **month**\n",
    "Как мы обговорили ранее, нам сейчас необходимо преобразовать данные о времени активности таким образом, чтобы получить отдельный признак **month**, тобишь - месяц."
   ]
  },
  {
   "cell_type": "code",
   "execution_count": 23,
   "metadata": {},
   "outputs": [
    {
     "name": "stdout",
     "output_type": "stream",
     "text": [
      "<class 'pandas.core.frame.DataFrame'>\n",
      "RangeIndex: 91826 entries, 0 to 91825\n",
      "Data columns (total 9 columns):\n",
      " #   Column               Non-Null Count  Dtype  \n",
      "---  ------               --------------  -----  \n",
      " 0   client_id            91826 non-null  int64  \n",
      " 1   sum                  91826 non-null  float64\n",
      " 2   target               91826 non-null  int64  \n",
      " 3   event_name           91826 non-null  object \n",
      " 4   transaction_purpose  91826 non-null  object \n",
      " 5   num_days             91826 non-null  int32  \n",
      " 6   hour                 91826 non-null  int32  \n",
      " 7   day_time             91826 non-null  int64  \n",
      " 8   month                91826 non-null  float64\n",
      "dtypes: float64(2), int32(2), int64(3), object(2)\n",
      "memory usage: 5.6+ MB\n"
     ]
    }
   ],
   "source": [
    "transactions.loc[:, \"month\"] = np.ceil(transactions.loc[:, \"num_days\"]/30)\n",
    "transactions.info()"
   ]
  },
  {
   "cell_type": "code",
   "execution_count": 24,
   "metadata": {},
   "outputs": [
    {
     "data": {
      "text/html": [
       "<div>\n",
       "<style scoped>\n",
       "    .dataframe tbody tr th:only-of-type {\n",
       "        vertical-align: middle;\n",
       "    }\n",
       "\n",
       "    .dataframe tbody tr th {\n",
       "        vertical-align: top;\n",
       "    }\n",
       "\n",
       "    .dataframe thead th {\n",
       "        text-align: right;\n",
       "    }\n",
       "</style>\n",
       "<table border=\"1\" class=\"dataframe\">\n",
       "  <thead>\n",
       "    <tr style=\"text-align: right;\">\n",
       "      <th></th>\n",
       "      <th>client_id</th>\n",
       "      <th>sum</th>\n",
       "      <th>target</th>\n",
       "      <th>event_name</th>\n",
       "      <th>transaction_purpose</th>\n",
       "      <th>num_days</th>\n",
       "      <th>hour</th>\n",
       "      <th>day_time</th>\n",
       "      <th>month</th>\n",
       "    </tr>\n",
       "  </thead>\n",
       "  <tbody>\n",
       "    <tr>\n",
       "      <th>0</th>\n",
       "      <td>880096372458</td>\n",
       "      <td>-561478.94</td>\n",
       "      <td>0</td>\n",
       "      <td>d7a84628c025d30f7b2c52c958767e76</td>\n",
       "      <td>e3b80d30a727c738f3cff0941f6bc55a</td>\n",
       "      <td>421</td>\n",
       "      <td>6</td>\n",
       "      <td>0</td>\n",
       "      <td>15.0</td>\n",
       "    </tr>\n",
       "    <tr>\n",
       "      <th>1</th>\n",
       "      <td>880096372458</td>\n",
       "      <td>224591.58</td>\n",
       "      <td>0</td>\n",
       "      <td>281715cafa675bf359ebaa42cb44fa17</td>\n",
       "      <td>e3b80d30a727c738f3cff0941f6bc55a</td>\n",
       "      <td>270</td>\n",
       "      <td>6</td>\n",
       "      <td>0</td>\n",
       "      <td>9.0</td>\n",
       "    </tr>\n",
       "    <tr>\n",
       "      <th>2</th>\n",
       "      <td>880096372458</td>\n",
       "      <td>-11229.58</td>\n",
       "      <td>0</td>\n",
       "      <td>ca43108ded5aabc7793d3f9b928cdd54</td>\n",
       "      <td>926ec030f29f83ce5318754fdb631a33</td>\n",
       "      <td>97</td>\n",
       "      <td>10</td>\n",
       "      <td>0</td>\n",
       "      <td>4.0</td>\n",
       "    </tr>\n",
       "    <tr>\n",
       "      <th>3</th>\n",
       "      <td>880096372458</td>\n",
       "      <td>-417695.42</td>\n",
       "      <td>0</td>\n",
       "      <td>619205da514e83f869515c782a328d3c</td>\n",
       "      <td>926ec030f29f83ce5318754fdb631a33</td>\n",
       "      <td>445</td>\n",
       "      <td>7</td>\n",
       "      <td>0</td>\n",
       "      <td>15.0</td>\n",
       "    </tr>\n",
       "    <tr>\n",
       "      <th>4</th>\n",
       "      <td>880096372458</td>\n",
       "      <td>-2245.92</td>\n",
       "      <td>0</td>\n",
       "      <td>e515df0d202ae52fcebb14295743063b</td>\n",
       "      <td>084afd913ab1e6ea58b8ca73f6cb41a6</td>\n",
       "      <td>4</td>\n",
       "      <td>9</td>\n",
       "      <td>0</td>\n",
       "      <td>1.0</td>\n",
       "    </tr>\n",
       "  </tbody>\n",
       "</table>\n",
       "</div>"
      ],
      "text/plain": [
       "      client_id        sum  target                        event_name  \\\n",
       "0  880096372458 -561478.94       0  d7a84628c025d30f7b2c52c958767e76   \n",
       "1  880096372458  224591.58       0  281715cafa675bf359ebaa42cb44fa17   \n",
       "2  880096372458  -11229.58       0  ca43108ded5aabc7793d3f9b928cdd54   \n",
       "3  880096372458 -417695.42       0  619205da514e83f869515c782a328d3c   \n",
       "4  880096372458   -2245.92       0  e515df0d202ae52fcebb14295743063b   \n",
       "\n",
       "                transaction_purpose  num_days  hour  day_time  month  \n",
       "0  e3b80d30a727c738f3cff0941f6bc55a       421     6         0   15.0  \n",
       "1  e3b80d30a727c738f3cff0941f6bc55a       270     6         0    9.0  \n",
       "2  926ec030f29f83ce5318754fdb631a33        97    10         0    4.0  \n",
       "3  926ec030f29f83ce5318754fdb631a33       445     7         0   15.0  \n",
       "4  084afd913ab1e6ea58b8ca73f6cb41a6         4     9         0    1.0  "
      ]
     },
     "execution_count": 24,
     "metadata": {},
     "output_type": "execute_result"
    }
   ],
   "source": [
    "transactions.head(5)"
   ]
  },
  {
   "cell_type": "markdown",
   "metadata": {},
   "source": [
    "### Разделим сумму транзакции \n",
    "Как мы видим, у нас имеется признак **sum**, который содержит положительные и отрицательные значения. Это вряд ли поможет нашему алгоритму далее понять, какие именно паттерны имеются в поведении наших пользователей. Решение простое - разделить на два поля:\n",
    "1) **in** - пополнение;\n",
    "2) **out** - снятие/трата;"
   ]
  },
  {
   "cell_type": "code",
   "execution_count": 25,
   "metadata": {},
   "outputs": [],
   "source": [
    "def sum_out(sum_n):\n",
    "    if sum_n <= 0:\n",
    "        return sum_n\n",
    "    else:\n",
    "        return 0"
   ]
  },
  {
   "cell_type": "code",
   "execution_count": 26,
   "metadata": {},
   "outputs": [
    {
     "data": {
      "text/html": [
       "<div>\n",
       "<style scoped>\n",
       "    .dataframe tbody tr th:only-of-type {\n",
       "        vertical-align: middle;\n",
       "    }\n",
       "\n",
       "    .dataframe tbody tr th {\n",
       "        vertical-align: top;\n",
       "    }\n",
       "\n",
       "    .dataframe thead th {\n",
       "        text-align: right;\n",
       "    }\n",
       "</style>\n",
       "<table border=\"1\" class=\"dataframe\">\n",
       "  <thead>\n",
       "    <tr style=\"text-align: right;\">\n",
       "      <th></th>\n",
       "      <th>client_id</th>\n",
       "      <th>sum</th>\n",
       "      <th>target</th>\n",
       "      <th>event_name</th>\n",
       "      <th>transaction_purpose</th>\n",
       "      <th>num_days</th>\n",
       "      <th>hour</th>\n",
       "      <th>day_time</th>\n",
       "      <th>month</th>\n",
       "      <th>out</th>\n",
       "    </tr>\n",
       "  </thead>\n",
       "  <tbody>\n",
       "    <tr>\n",
       "      <th>0</th>\n",
       "      <td>880096372458</td>\n",
       "      <td>-561478.94</td>\n",
       "      <td>0</td>\n",
       "      <td>d7a84628c025d30f7b2c52c958767e76</td>\n",
       "      <td>e3b80d30a727c738f3cff0941f6bc55a</td>\n",
       "      <td>421</td>\n",
       "      <td>6</td>\n",
       "      <td>0</td>\n",
       "      <td>15.0</td>\n",
       "      <td>-561478.94</td>\n",
       "    </tr>\n",
       "    <tr>\n",
       "      <th>1</th>\n",
       "      <td>880096372458</td>\n",
       "      <td>224591.58</td>\n",
       "      <td>0</td>\n",
       "      <td>281715cafa675bf359ebaa42cb44fa17</td>\n",
       "      <td>e3b80d30a727c738f3cff0941f6bc55a</td>\n",
       "      <td>270</td>\n",
       "      <td>6</td>\n",
       "      <td>0</td>\n",
       "      <td>9.0</td>\n",
       "      <td>0.00</td>\n",
       "    </tr>\n",
       "    <tr>\n",
       "      <th>2</th>\n",
       "      <td>880096372458</td>\n",
       "      <td>-11229.58</td>\n",
       "      <td>0</td>\n",
       "      <td>ca43108ded5aabc7793d3f9b928cdd54</td>\n",
       "      <td>926ec030f29f83ce5318754fdb631a33</td>\n",
       "      <td>97</td>\n",
       "      <td>10</td>\n",
       "      <td>0</td>\n",
       "      <td>4.0</td>\n",
       "      <td>-11229.58</td>\n",
       "    </tr>\n",
       "    <tr>\n",
       "      <th>3</th>\n",
       "      <td>880096372458</td>\n",
       "      <td>-417695.42</td>\n",
       "      <td>0</td>\n",
       "      <td>619205da514e83f869515c782a328d3c</td>\n",
       "      <td>926ec030f29f83ce5318754fdb631a33</td>\n",
       "      <td>445</td>\n",
       "      <td>7</td>\n",
       "      <td>0</td>\n",
       "      <td>15.0</td>\n",
       "      <td>-417695.42</td>\n",
       "    </tr>\n",
       "  </tbody>\n",
       "</table>\n",
       "</div>"
      ],
      "text/plain": [
       "      client_id        sum  target                        event_name  \\\n",
       "0  880096372458 -561478.94       0  d7a84628c025d30f7b2c52c958767e76   \n",
       "1  880096372458  224591.58       0  281715cafa675bf359ebaa42cb44fa17   \n",
       "2  880096372458  -11229.58       0  ca43108ded5aabc7793d3f9b928cdd54   \n",
       "3  880096372458 -417695.42       0  619205da514e83f869515c782a328d3c   \n",
       "\n",
       "                transaction_purpose  num_days  hour  day_time  month  \\\n",
       "0  e3b80d30a727c738f3cff0941f6bc55a       421     6         0   15.0   \n",
       "1  e3b80d30a727c738f3cff0941f6bc55a       270     6         0    9.0   \n",
       "2  926ec030f29f83ce5318754fdb631a33        97    10         0    4.0   \n",
       "3  926ec030f29f83ce5318754fdb631a33       445     7         0   15.0   \n",
       "\n",
       "         out  \n",
       "0 -561478.94  \n",
       "1       0.00  \n",
       "2  -11229.58  \n",
       "3 -417695.42  "
      ]
     },
     "execution_count": 26,
     "metadata": {},
     "output_type": "execute_result"
    }
   ],
   "source": [
    "transactions.loc[:, \"out\"] = transactions.loc[:, \"sum\"].apply(sum_out)\n",
    "transactions.head(4)"
   ]
  },
  {
   "cell_type": "markdown",
   "metadata": {},
   "source": [
    "Оставим только положительные значения **sum** и переименуем поле в **in**, тобишь пополнение счета."
   ]
  },
  {
   "cell_type": "code",
   "execution_count": 27,
   "metadata": {},
   "outputs": [
    {
     "data": {
      "text/html": [
       "<div>\n",
       "<style scoped>\n",
       "    .dataframe tbody tr th:only-of-type {\n",
       "        vertical-align: middle;\n",
       "    }\n",
       "\n",
       "    .dataframe tbody tr th {\n",
       "        vertical-align: top;\n",
       "    }\n",
       "\n",
       "    .dataframe thead th {\n",
       "        text-align: right;\n",
       "    }\n",
       "</style>\n",
       "<table border=\"1\" class=\"dataframe\">\n",
       "  <thead>\n",
       "    <tr style=\"text-align: right;\">\n",
       "      <th></th>\n",
       "      <th>client_id</th>\n",
       "      <th>in</th>\n",
       "      <th>target</th>\n",
       "      <th>event_name</th>\n",
       "      <th>transaction_purpose</th>\n",
       "      <th>num_days</th>\n",
       "      <th>day_time</th>\n",
       "      <th>month</th>\n",
       "      <th>out</th>\n",
       "    </tr>\n",
       "  </thead>\n",
       "  <tbody>\n",
       "    <tr>\n",
       "      <th>0</th>\n",
       "      <td>880096372458</td>\n",
       "      <td>0.00</td>\n",
       "      <td>0</td>\n",
       "      <td>d7a84628c025d30f7b2c52c958767e76</td>\n",
       "      <td>e3b80d30a727c738f3cff0941f6bc55a</td>\n",
       "      <td>421</td>\n",
       "      <td>0</td>\n",
       "      <td>15.0</td>\n",
       "      <td>561478.94</td>\n",
       "    </tr>\n",
       "    <tr>\n",
       "      <th>1</th>\n",
       "      <td>880096372458</td>\n",
       "      <td>224591.58</td>\n",
       "      <td>0</td>\n",
       "      <td>281715cafa675bf359ebaa42cb44fa17</td>\n",
       "      <td>e3b80d30a727c738f3cff0941f6bc55a</td>\n",
       "      <td>270</td>\n",
       "      <td>0</td>\n",
       "      <td>9.0</td>\n",
       "      <td>0.00</td>\n",
       "    </tr>\n",
       "    <tr>\n",
       "      <th>2</th>\n",
       "      <td>880096372458</td>\n",
       "      <td>0.00</td>\n",
       "      <td>0</td>\n",
       "      <td>ca43108ded5aabc7793d3f9b928cdd54</td>\n",
       "      <td>926ec030f29f83ce5318754fdb631a33</td>\n",
       "      <td>97</td>\n",
       "      <td>0</td>\n",
       "      <td>4.0</td>\n",
       "      <td>11229.58</td>\n",
       "    </tr>\n",
       "    <tr>\n",
       "      <th>3</th>\n",
       "      <td>880096372458</td>\n",
       "      <td>0.00</td>\n",
       "      <td>0</td>\n",
       "      <td>619205da514e83f869515c782a328d3c</td>\n",
       "      <td>926ec030f29f83ce5318754fdb631a33</td>\n",
       "      <td>445</td>\n",
       "      <td>0</td>\n",
       "      <td>15.0</td>\n",
       "      <td>417695.42</td>\n",
       "    </tr>\n",
       "  </tbody>\n",
       "</table>\n",
       "</div>"
      ],
      "text/plain": [
       "      client_id         in  target                        event_name  \\\n",
       "0  880096372458       0.00       0  d7a84628c025d30f7b2c52c958767e76   \n",
       "1  880096372458  224591.58       0  281715cafa675bf359ebaa42cb44fa17   \n",
       "2  880096372458       0.00       0  ca43108ded5aabc7793d3f9b928cdd54   \n",
       "3  880096372458       0.00       0  619205da514e83f869515c782a328d3c   \n",
       "\n",
       "                transaction_purpose  num_days  day_time  month        out  \n",
       "0  e3b80d30a727c738f3cff0941f6bc55a       421         0   15.0  561478.94  \n",
       "1  e3b80d30a727c738f3cff0941f6bc55a       270         0    9.0       0.00  \n",
       "2  926ec030f29f83ce5318754fdb631a33        97         0    4.0   11229.58  \n",
       "3  926ec030f29f83ce5318754fdb631a33       445         0   15.0  417695.42  "
      ]
     },
     "execution_count": 27,
     "metadata": {},
     "output_type": "execute_result"
    }
   ],
   "source": [
    "transactions.loc[transactions[\"sum\"]<=0, \"sum\"]=0\n",
    "transactions.rename(columns={'sum': 'in'}, inplace=True, errors='raise')\n",
    "transactions = transactions.drop(\"hour\", axis = 1)\n",
    "transactions.loc[:, \"out\"] = abs(transactions.loc[:, \"out\"])\n",
    "transactions.head(4)"
   ]
  },
  {
   "cell_type": "markdown",
   "metadata": {},
   "source": [
    "## EDA\n",
    "Изучим инсайты в данных, котоыре могут дать нам полезную ифнормацию, применимую далее при выборе алгоритма.\n",
    "### Распределение данных о транзакциях вдоль временного прямого\n",
    "#### Соотношение количества транзакции (in / out)"
   ]
  },
  {
   "cell_type": "code",
   "execution_count": 28,
   "metadata": {},
   "outputs": [
    {
     "data": {
      "image/png": "[encoded data removed]",
      "text/plain": [
       "<Figure size 1080x576 with 1 Axes>"
      ]
     },
     "metadata": {
      "needs_background": "light"
     },
     "output_type": "display_data"
    }
   ],
   "source": [
    "ratio_m = transactions.pivot_table(index = \"month\",\n",
    "                                   columns = \"target\",\n",
    "                                   values = \"client_id\",\n",
    "                                   aggfunc = \"count\")\n",
    "ratio_m.columns=[\"0\", \"1\"]\n",
    "ratio_m.reset_index(inplace = True)\n",
    "ratio_m.loc[:, \"month\"] = ratio_m.loc[:, \"month\"].astype(\"int64\")\n",
    "ratio_m.loc[:, \"ratio\"] = round(ratio_m.loc[:, \"0\"]/ratio_m.loc[:, \"1\"]*100, 2)\n",
    "\n",
    "ax1=ratio_m.plot(x = \"month\", y = \"ratio\", title='Number of transaction (F/M)', figsize=(15, 8))\n",
    "ax1.set_xlabel(\"month\")\n",
    "ax1.set_ylabel(\"ratio\")\n",
    "plt.axhline(100)\n",
    "ax1.grid()"
   ]
  },
  {
   "cell_type": "markdown",
   "metadata": {},
   "source": [
    "Количество женщин преобладает, но не настолько сильно. То есть, мы можем с уверенностью сказать, что далее, при обучении алгоритма мы будем иметь дело с равномерно распределенными данными, без скошенностей и пр., что стоило бы учесть."
   ]
  },
  {
   "cell_type": "markdown",
   "metadata": {},
   "source": [
    "## Выбор алгоритма и обучение\n",
    "И так, теперь, когда мы вплотную подобрались к самой сути настоящей работы, нам необходимо выбрать тот самый алгоритм, который лучше всего подойдет к выполнению задания - обучение модели, которая способна предиктить целевой признак - **пол** наших пользователей. <br>Наш курс:<br>\n",
    "1) Определить корреляционные характеристики каждого признака и узнать, какие именно веса у каждого признака, и имеются ли признаки, которые отрицательно / благоприятно будут действовать на модель. Для этих целей мы используем корреляционную матрицу;<br>\n",
    "2) На оснований весов по таргету выбрать наиболее благоприятный алгоритм;<br>\n",
    "3) Определиться с метриками качества нашей модели и настроить функцию;<br>\n",
    "4) Обучить модели;<br>\n",
    "5) Выдать метрики."
   ]
  },
  {
   "cell_type": "code",
   "execution_count": 33,
   "metadata": {},
   "outputs": [
    {
     "data": {
      "text/html": [
       "<div>\n",
       "<style scoped>\n",
       "    .dataframe tbody tr th:only-of-type {\n",
       "        vertical-align: middle;\n",
       "    }\n",
       "\n",
       "    .dataframe tbody tr th {\n",
       "        vertical-align: top;\n",
       "    }\n",
       "\n",
       "    .dataframe thead th {\n",
       "        text-align: right;\n",
       "    }\n",
       "</style>\n",
       "<table border=\"1\" class=\"dataframe\">\n",
       "  <thead>\n",
       "    <tr style=\"text-align: right;\">\n",
       "      <th></th>\n",
       "      <th>client_id</th>\n",
       "      <th>in</th>\n",
       "      <th>target</th>\n",
       "      <th>event_name</th>\n",
       "      <th>transaction_purpose</th>\n",
       "      <th>num_days</th>\n",
       "      <th>day_time</th>\n",
       "      <th>month</th>\n",
       "      <th>out</th>\n",
       "    </tr>\n",
       "  </thead>\n",
       "  <tbody>\n",
       "    <tr>\n",
       "      <th>0</th>\n",
       "      <td>880096372458</td>\n",
       "      <td>0.00</td>\n",
       "      <td>0</td>\n",
       "      <td>d7a84628c025d30f7b2c52c958767e76</td>\n",
       "      <td>e3b80d30a727c738f3cff0941f6bc55a</td>\n",
       "      <td>421</td>\n",
       "      <td>0</td>\n",
       "      <td>15.0</td>\n",
       "      <td>561478.94</td>\n",
       "    </tr>\n",
       "    <tr>\n",
       "      <th>1</th>\n",
       "      <td>880096372458</td>\n",
       "      <td>224591.58</td>\n",
       "      <td>0</td>\n",
       "      <td>281715cafa675bf359ebaa42cb44fa17</td>\n",
       "      <td>e3b80d30a727c738f3cff0941f6bc55a</td>\n",
       "      <td>270</td>\n",
       "      <td>0</td>\n",
       "      <td>9.0</td>\n",
       "      <td>0.00</td>\n",
       "    </tr>\n",
       "    <tr>\n",
       "      <th>2</th>\n",
       "      <td>880096372458</td>\n",
       "      <td>0.00</td>\n",
       "      <td>0</td>\n",
       "      <td>ca43108ded5aabc7793d3f9b928cdd54</td>\n",
       "      <td>926ec030f29f83ce5318754fdb631a33</td>\n",
       "      <td>97</td>\n",
       "      <td>0</td>\n",
       "      <td>4.0</td>\n",
       "      <td>11229.58</td>\n",
       "    </tr>\n",
       "  </tbody>\n",
       "</table>\n",
       "</div>"
      ],
      "text/plain": [
       "      client_id         in  target                        event_name  \\\n",
       "0  880096372458       0.00       0  d7a84628c025d30f7b2c52c958767e76   \n",
       "1  880096372458  224591.58       0  281715cafa675bf359ebaa42cb44fa17   \n",
       "2  880096372458       0.00       0  ca43108ded5aabc7793d3f9b928cdd54   \n",
       "\n",
       "                transaction_purpose  num_days  day_time  month        out  \n",
       "0  e3b80d30a727c738f3cff0941f6bc55a       421         0   15.0  561478.94  \n",
       "1  e3b80d30a727c738f3cff0941f6bc55a       270         0    9.0       0.00  \n",
       "2  926ec030f29f83ce5318754fdb631a33        97         0    4.0   11229.58  "
      ]
     },
     "execution_count": 33,
     "metadata": {},
     "output_type": "execute_result"
    }
   ],
   "source": [
    "train = transactions\n",
    "transactions.head(3)"
   ]
  },
  {
   "cell_type": "code",
   "execution_count": 34,
   "metadata": {},
   "outputs": [],
   "source": [
    "#get object cols only and apply LabelEncoder\n",
    "train[[\"event_name\", \"transaction_purpose\"]] = train[[\"event_name\", \"transaction_purpose\"]].apply(LabelEncoder().fit_transform)"
   ]
  },
  {
   "cell_type": "markdown",
   "metadata": {},
   "source": [
    "### CM (corr())\n",
    "Здесь, вызовем метод corr() - узнаем, какие у нас веса и имеется ли мультиколлинеарность."
   ]
  },
  {
   "cell_type": "code",
   "execution_count": 35,
   "metadata": {},
   "outputs": [
    {
     "data": {
      "image/png": "[encoded data removed]",
      "text/plain": [
       "<Figure size 1008x1008 with 2 Axes>"
      ]
     },
     "metadata": {
      "needs_background": "light"
     },
     "output_type": "display_data"
    }
   ],
   "source": [
    "trans_cm = transactions.drop([\"client_id\"], axis = 1).corr()\n",
    "a4_dims = (14, 14)\n",
    "\n",
    "fig, ax = plt.subplots(figsize=a4_dims)\n",
    "sns.heatmap(trans_cm, annot = True, square = True)\n",
    "plt.show()"
   ]
  },
  {
   "cell_type": "markdown",
   "metadata": {},
   "source": [
    "**Выводы:**\n",
    "1. В целом, веса всех почти признаков довольно низкие, следовательно здесь единственно возможный вариант алгоритма классификации для обучения это Boosting, иные наврядли смогут дать результат лучше подброшенной монеты;\n",
    "2. И нам вероятно следует избавиться от одной ищ признаков **num_days** и **month**;"
   ]
  },
  {
   "cell_type": "markdown",
   "metadata": {},
   "source": [
    "### Сплит "
   ]
  },
  {
   "cell_type": "code",
   "execution_count": 36,
   "metadata": {},
   "outputs": [],
   "source": [
    "X = train.drop([\"client_id\"], axis=1)\n",
    "y = train.loc[:, \"target\"]"
   ]
  },
  {
   "cell_type": "code",
   "execution_count": 39,
   "metadata": {},
   "outputs": [],
   "source": [
    "X_train, X_test, y_train, y_test = train_test_split(X, y, test_size=0.2, random_state=0, stratify = y)"
   ]
  },
  {
   "cell_type": "markdown",
   "metadata": {},
   "source": [
    "### Метрики качества\n",
    "Естественно, что наличие обученной модели - это полдела. Нам важно также знать, какой результат выдает модель, дабы исключить вероятность GIGO."
   ]
  },
  {
   "cell_type": "code",
   "execution_count": 40,
   "metadata": {},
   "outputs": [],
   "source": [
    "def metrics(y_true,y_pred, title = 'Model metrics'):\n",
    "    display(title)\n",
    "    display('Accuracy: {:.2f}'.format(accuracy_score(y_true, y_pred)))\n",
    "    display('Precision: {:.2f}'.format(precision_score(y_true, y_pred)))\n",
    "    display('Recall: {:.2f}'.format(recall_score(y_true, y_pred)))"
   ]
  },
  {
   "cell_type": "markdown",
   "metadata": {},
   "source": [
    "### XGBClassifier\n",
    "#### Обучение\n",
    "Почему именно классфикатор XGB - озвучено выше. Главной метрикой для бинарного классфикатора ялвяется **ROC AUC**. Для начала испытаем каждый из выбранных по-отдельности и узнаем как именно ведет себя эта метрика."
   ]
  },
  {
   "cell_type": "code",
   "execution_count": 41,
   "metadata": {},
   "outputs": [
    {
     "name": "stdout",
     "output_type": "stream",
     "text": [
      "Mean ROC AUC: 1.00000\n"
     ]
    }
   ],
   "source": [
    "# модель\n",
    "model = XGBClassifier(\n",
    "    max_depth = 10,\n",
    "    eta = 0.1,\n",
    "    gamma = 0,\n",
    "    min_child_weight = 0.9,\n",
    "    reg_lambda = 0,\n",
    "    alpha = 0.9,\n",
    "    nrounds = 150,\n",
    "    subsample = 1)\n",
    "# кроссвалидация\n",
    "cv = RepeatedStratifiedKFold(n_splits=5, n_repeats=10, random_state=1)\n",
    "# получим метрику ROC AUC\n",
    "scores = cross_val_score(model, X, y, scoring='roc_auc', cv=cv)\n",
    "# print metric - ROC AUC\n",
    "print('Mean ROC AUC: %.5f' % mean(scores))"
   ]
  },
  {
   "cell_type": "markdown",
   "metadata": {},
   "source": [
    "**Святые силы, ROC AUC=1!!!** И так, теперь, оценим, каким именно образом могут себя вести другие метрики. "
   ]
  },
  {
   "cell_type": "markdown",
   "metadata": {},
   "source": [
    "#### Валидация"
   ]
  },
  {
   "cell_type": "code",
   "execution_count": 42,
   "metadata": {
    "scrolled": true
   },
   "outputs": [
    {
     "data": {
      "text/plain": [
       "'Model metrics'"
      ]
     },
     "metadata": {},
     "output_type": "display_data"
    },
    {
     "data": {
      "text/plain": [
       "'Accuracy: 1.00'"
      ]
     },
     "metadata": {},
     "output_type": "display_data"
    },
    {
     "data": {
      "text/plain": [
       "'Precision: 1.00'"
      ]
     },
     "metadata": {},
     "output_type": "display_data"
    },
    {
     "data": {
      "text/plain": [
       "'Recall: 1.00'"
      ]
     },
     "metadata": {},
     "output_type": "display_data"
    }
   ],
   "source": [
    "model.fit(X_train, y_train)\n",
    "# pred and prob;\n",
    "\n",
    "xgbc_pred = model.predict(X_test)\n",
    "xgbc_pred\n",
    "\n",
    "metrics(y_test, xgbc_pred)"
   ]
  },
  {
   "cell_type": "code",
   "execution_count": 43,
   "metadata": {},
   "outputs": [
    {
     "data": {
      "text/plain": [
       "18366"
      ]
     },
     "execution_count": 43,
     "metadata": {},
     "output_type": "execute_result"
    }
   ],
   "source": [
    "test_y = y_test.to_list()\n",
    "len(test_y)"
   ]
  },
  {
   "cell_type": "code",
   "execution_count": 44,
   "metadata": {},
   "outputs": [
    {
     "data": {
      "text/html": [
       "<div>\n",
       "<style scoped>\n",
       "    .dataframe tbody tr th:only-of-type {\n",
       "        vertical-align: middle;\n",
       "    }\n",
       "\n",
       "    .dataframe tbody tr th {\n",
       "        vertical-align: top;\n",
       "    }\n",
       "\n",
       "    .dataframe thead th {\n",
       "        text-align: right;\n",
       "    }\n",
       "</style>\n",
       "<table border=\"1\" class=\"dataframe\">\n",
       "  <thead>\n",
       "    <tr style=\"text-align: right;\">\n",
       "      <th></th>\n",
       "      <th>actual</th>\n",
       "      <th>predicted</th>\n",
       "    </tr>\n",
       "  </thead>\n",
       "  <tbody>\n",
       "    <tr>\n",
       "      <th>0</th>\n",
       "      <td>1</td>\n",
       "      <td>1</td>\n",
       "    </tr>\n",
       "    <tr>\n",
       "      <th>1</th>\n",
       "      <td>1</td>\n",
       "      <td>1</td>\n",
       "    </tr>\n",
       "    <tr>\n",
       "      <th>2</th>\n",
       "      <td>1</td>\n",
       "      <td>1</td>\n",
       "    </tr>\n",
       "    <tr>\n",
       "      <th>3</th>\n",
       "      <td>1</td>\n",
       "      <td>1</td>\n",
       "    </tr>\n",
       "    <tr>\n",
       "      <th>4</th>\n",
       "      <td>1</td>\n",
       "      <td>1</td>\n",
       "    </tr>\n",
       "    <tr>\n",
       "      <th>...</th>\n",
       "      <td>...</td>\n",
       "      <td>...</td>\n",
       "    </tr>\n",
       "    <tr>\n",
       "      <th>18361</th>\n",
       "      <td>0</td>\n",
       "      <td>0</td>\n",
       "    </tr>\n",
       "    <tr>\n",
       "      <th>18362</th>\n",
       "      <td>1</td>\n",
       "      <td>1</td>\n",
       "    </tr>\n",
       "    <tr>\n",
       "      <th>18363</th>\n",
       "      <td>1</td>\n",
       "      <td>1</td>\n",
       "    </tr>\n",
       "    <tr>\n",
       "      <th>18364</th>\n",
       "      <td>1</td>\n",
       "      <td>1</td>\n",
       "    </tr>\n",
       "    <tr>\n",
       "      <th>18365</th>\n",
       "      <td>1</td>\n",
       "      <td>1</td>\n",
       "    </tr>\n",
       "  </tbody>\n",
       "</table>\n",
       "<p>18366 rows × 2 columns</p>\n",
       "</div>"
      ],
      "text/plain": [
       "       actual  predicted\n",
       "0           1          1\n",
       "1           1          1\n",
       "2           1          1\n",
       "3           1          1\n",
       "4           1          1\n",
       "...       ...        ...\n",
       "18361       0          0\n",
       "18362       1          1\n",
       "18363       1          1\n",
       "18364       1          1\n",
       "18365       1          1\n",
       "\n",
       "[18366 rows x 2 columns]"
      ]
     },
     "execution_count": 44,
     "metadata": {},
     "output_type": "execute_result"
    }
   ],
   "source": [
    "compare = pd.DataFrame({'actual':test_y, 'predicted':xgbc_pred})\n",
    "compare[compare[\"actual\"]==compare[\"predicted\"]]"
   ]
  },
  {
   "cell_type": "markdown",
   "metadata": {},
   "source": [
    "Вуаля! Шалость, как сказал один герой, удалась! Теперь, напоследок, изучим саму модель. Самое время вызвать матрицу Confusion matrix и выявить, где наша модель \"споткнулась\".\n",
    "#### Confusion matrix"
   ]
  },
  {
   "cell_type": "code",
   "execution_count": 47,
   "metadata": {},
   "outputs": [
    {
     "data": {
      "text/plain": [
       "Text(91.68, 0.5, 'Predicted Label')"
      ]
     },
     "execution_count": 47,
     "metadata": {},
     "output_type": "execute_result"
    },
    {
     "data": {
      "image/png": "[encoded data removed]",
      "text/plain": [
       "<Figure size 432x288 with 1 Axes>"
      ]
     },
     "metadata": {
      "needs_background": "light"
     },
     "output_type": "display_data"
    }
   ],
   "source": [
    "cm = confusion_matrix(compare[\"actual\"], compare[\"predicted\"])\n",
    "sns.heatmap(cm.T,\n",
    "            square=True,\n",
    "            annot=True,\n",
    "            fmt='d',\n",
    "            cbar=False,\n",
    "            cmap=\"BuPu\")\n",
    "plt.xlabel('Actual Label')\n",
    "plt.ylabel('Predicted Label')"
   ]
  },
  {
   "cell_type": "markdown",
   "metadata": {},
   "source": [
    "### ROC AUC\n",
    "Построим график для нашего ROC AUC. (так, веселья ради)"
   ]
  },
  {
   "cell_type": "code",
   "execution_count": 50,
   "metadata": {},
   "outputs": [
    {
     "data": {
      "image/png": "[encoded data removed]",
      "text/plain": [
       "<Figure size 720x720 with 1 Axes>"
      ]
     },
     "metadata": {
      "needs_background": "light"
     },
     "output_type": "display_data"
    }
   ],
   "source": [
    "fpr, tpr, threshold = roc_curve(compare[\"actual\"], compare[\"predicted\"])\n",
    "\n",
    "plt.subplots(1, figsize=(10,10))\n",
    "plt.title('Receiver Operating Characteristic - DecisionTree')\n",
    "plt.plot(fpr, tpr)\n",
    "plt.plot([0, 1], ls=\"--\")\n",
    "plt.plot([0, 0], [1, 0] , c=\".7\"), plt.plot([1, 1] , c=\".7\")\n",
    "plt.ylabel('True Positive Rate')\n",
    "plt.xlabel('False Positive Rate')\n",
    "plt.show()"
   ]
  },
  {
   "cell_type": "markdown",
   "metadata": {},
   "source": [
    "## Вывод\n",
    "1. Мы выбрали алгоритм на основе XGBClassifier, так как при изучении матрицы корреляции было очевидно, что признаки не давют существенного веса для дальнейшего использования в качестве предикторов;\n",
    "2. Обучение прошло успешно, так как результаты по метрикам очень и очень высокие и уюедительные. "
   ]
  }
 ],
 "metadata": {
  "kernelspec": {
   "display_name": "Python 3",
   "language": "python",
   "name": "python3"
  },
  "language_info": {
   "codemirror_mode": {
    "name": "ipython",
    "version": 3
   },
   "file_extension": ".py",
   "mimetype": "text/x-python",
   "name": "python",
   "nbconvert_exporter": "python",
   "pygments_lexer": "ipython3",
   "version": "3.7.6"
  },
  "toc": {
   "base_numbering": 1,
   "nav_menu": {},
   "number_sections": true,
   "sideBar": true,
   "skip_h1_title": true,
   "title_cell": "Table of Contents",
   "title_sidebar": "Contents",
   "toc_cell": false,
   "toc_position": {
    "height": "calc(100% - 180px)",
    "left": "10px",
    "top": "150px",
    "width": "165px"
   },
   "toc_section_display": true,
   "toc_window_display": true
  }
 },
 "nbformat": 4,
 "nbformat_minor": 4
}
